{
 "cells": [
  {
   "cell_type": "markdown",
   "id": "3c413e1c",
   "metadata": {},
   "source": [
    "# 1.Implement Binary Search"
   ]
  },
  {
   "cell_type": "code",
   "execution_count": 1,
   "id": "e65601e1",
   "metadata": {},
   "outputs": [
    {
     "name": "stdout",
     "output_type": "stream",
     "text": [
      "Element 5 found at index 4\n"
     ]
    }
   ],
   "source": [
    "def binary_search(arr, target):\n",
    "    left, right = 0, len(arr) - 1\n",
    "\n",
    "    while left <= right:\n",
    "        mid = (left + right) // 2\n",
    "\n",
    "        if arr[mid] == target:\n",
    "            return mid  # Target found, return its index\n",
    "        elif arr[mid] < target:\n",
    "            left = mid + 1  # Target is in the right half\n",
    "        else:\n",
    "            right = mid - 1  # Target is in the left half\n",
    "\n",
    "    return -1  # Target is not in the array\n",
    "\n",
    "# Example usage\n",
    "arr = [1, 2, 3, 4, 5, 6, 7, 8, 9, 10]\n",
    "target = 5\n",
    "\n",
    "result = binary_search(arr, target)\n",
    "\n",
    "if result != -1:\n",
    "    print(f\"Element {target} found at index {result}\")\n",
    "else:\n",
    "    print(f\"Element {target} not found in the array\")\n"
   ]
  },
  {
   "cell_type": "markdown",
   "id": "833d7478",
   "metadata": {},
   "source": [
    "# 2.Implement Merge Sort"
   ]
  },
  {
   "cell_type": "code",
   "execution_count": 2,
   "id": "5cf47722",
   "metadata": {},
   "outputs": [
    {
     "name": "stdout",
     "output_type": "stream",
     "text": [
      "Original Array: [38, 27, 43, 3, 9, 82, 10]\n",
      "Sorted Array: [3, 9, 10, 27, 38, 43, 82]\n"
     ]
    }
   ],
   "source": [
    "def merge_sort(arr):\n",
    "    if len(arr) > 1:\n",
    "        mid = len(arr) // 2\n",
    "        left_half = arr[:mid]\n",
    "        right_half = arr[mid:]\n",
    "\n",
    "        # Recursively sort the left and right halves\n",
    "        merge_sort(left_half)\n",
    "        merge_sort(right_half)\n",
    "\n",
    "        i = j = k = 0\n",
    "\n",
    "        # Merge the sorted halves back into the original array\n",
    "        while i < len(left_half) and j < len(right_half):\n",
    "            if left_half[i] < right_half[j]:\n",
    "                arr[k] = left_half[i]\n",
    "                i += 1\n",
    "            else:\n",
    "                arr[k] = right_half[j]\n",
    "                j += 1\n",
    "            k += 1\n",
    "\n",
    "        # Copy the remaining elements from left_half and right_half, if any\n",
    "        while i < len(left_half):\n",
    "            arr[k] = left_half[i]\n",
    "            i += 1\n",
    "            k += 1\n",
    "\n",
    "        while j < len(right_half):\n",
    "            arr[k] = right_half[j]\n",
    "            j += 1\n",
    "            k += 1\n",
    "\n",
    "# Example usage\n",
    "arr = [38, 27, 43, 3, 9, 82, 10]\n",
    "print(\"Original Array:\", arr)\n",
    "\n",
    "merge_sort(arr)\n",
    "print(\"Sorted Array:\", arr)\n"
   ]
  },
  {
   "cell_type": "markdown",
   "id": "a4add8d5",
   "metadata": {},
   "source": [
    "# 3.Implement Quick Sort"
   ]
  },
  {
   "cell_type": "code",
   "execution_count": 3,
   "id": "39ea8470",
   "metadata": {},
   "outputs": [
    {
     "name": "stdout",
     "output_type": "stream",
     "text": [
      "Original Array: [38, 27, 43, 3, 9, 82, 10]\n",
      "Sorted Array: [3, 9, 10, 27, 38, 43, 82]\n"
     ]
    }
   ],
   "source": [
    "def quick_sort(arr):\n",
    "    if len(arr) <= 1:\n",
    "        return arr\n",
    "\n",
    "    pivot = arr[len(arr) // 2]  # Choose a pivot element (e.g., middle element)\n",
    "    left = [x for x in arr if x < pivot]  # Elements less than the pivot\n",
    "    middle = [x for x in arr if x == pivot]  # Elements equal to the pivot\n",
    "    right = [x for x in arr if x > pivot]  # Elements greater than the pivot\n",
    "\n",
    "    # Recursively sort the left and right sub-arrays\n",
    "    return quick_sort(left) + middle + quick_sort(right)\n",
    "\n",
    "# Example usage\n",
    "arr = [38, 27, 43, 3, 9, 82, 10]\n",
    "print(\"Original Array:\", arr)\n",
    "\n",
    "sorted_arr = quick_sort(arr)\n",
    "print(\"Sorted Array:\", sorted_arr)\n"
   ]
  },
  {
   "cell_type": "markdown",
   "id": "01a99ef0",
   "metadata": {},
   "source": [
    "# 4.Implement Insertion Sort"
   ]
  },
  {
   "cell_type": "code",
   "execution_count": 4,
   "id": "b21100af",
   "metadata": {},
   "outputs": [
    {
     "name": "stdout",
     "output_type": "stream",
     "text": [
      "Original Array: [38, 27, 43, 3, 9, 82, 10]\n",
      "Sorted Array: [3, 9, 10, 27, 38, 43, 82]\n"
     ]
    }
   ],
   "source": [
    "def insertion_sort(arr):\n",
    "    for i in range(1, len(arr)):\n",
    "        key = arr[i]\n",
    "        j = i - 1\n",
    "\n",
    "        # Move elements of arr[0..i-1] that are greater than key\n",
    "        # to one position ahead of their current position\n",
    "        while j >= 0 and key < arr[j]:\n",
    "            arr[j + 1] = arr[j]\n",
    "            j -= 1\n",
    "        arr[j + 1] = key\n",
    "\n",
    "# Example usage\n",
    "arr = [38, 27, 43, 3, 9, 82, 10]\n",
    "print(\"Original Array:\", arr)\n",
    "\n",
    "insertion_sort(arr)\n",
    "print(\"Sorted Array:\", arr)\n"
   ]
  },
  {
   "cell_type": "markdown",
   "id": "8e8d9bfe",
   "metadata": {},
   "source": [
    "# 5.Write a program to sort list of strings (similar to that of dictionary"
   ]
  },
  {
   "cell_type": "code",
   "execution_count": 5,
   "id": "6b63f80d",
   "metadata": {},
   "outputs": [
    {
     "name": "stdout",
     "output_type": "stream",
     "text": [
      "Sorted List:\n",
      "apple\n",
      "banana\n",
      "cat\n",
      "dog\n",
      "grape\n",
      "zebra\n"
     ]
    }
   ],
   "source": [
    "# List of strings\n",
    "string_list = [\"apple\", \"banana\", \"zebra\", \"grape\", \"cat\", \"dog\"]\n",
    "\n",
    "# Sort the list lexicographically\n",
    "sorted_list = sorted(string_list)\n",
    "\n",
    "# Print the sorted list\n",
    "print(\"Sorted List:\")\n",
    "for item in sorted_list:\n",
    "    print(item)\n"
   ]
  },
  {
   "cell_type": "code",
   "execution_count": null,
   "id": "6582b534",
   "metadata": {},
   "outputs": [],
   "source": []
  }
 ],
 "metadata": {
  "kernelspec": {
   "display_name": "Python 3 (ipykernel)",
   "language": "python",
   "name": "python3"
  },
  "language_info": {
   "codemirror_mode": {
    "name": "ipython",
    "version": 3
   },
   "file_extension": ".py",
   "mimetype": "text/x-python",
   "name": "python",
   "nbconvert_exporter": "python",
   "pygments_lexer": "ipython3",
   "version": "3.10.9"
  }
 },
 "nbformat": 4,
 "nbformat_minor": 5
}
